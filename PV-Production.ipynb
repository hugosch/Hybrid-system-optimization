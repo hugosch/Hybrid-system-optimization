{
 "cells": [
  {
   "cell_type": "markdown",
   "metadata": {},
   "source": [
    "# PV-Production function "
   ]
  },
  {
   "cell_type": "code",
   "execution_count": 1,
   "metadata": {},
   "outputs": [],
   "source": [
    "import datetime\n",
    "import numpy as np\n",
    "import pandas as pd\n",
    "%matplotlib inline \n",
    "import matplotlib.pyplot as plt\n",
    "import pvlib\n",
    "from pvlib import pvsystem"
   ]
  },
  {
   "cell_type": "code",
   "execution_count": 2,
   "metadata": {},
   "outputs": [],
   "source": [
    "def prod(location,irrad_file, met_file, start, end,mod, inver ,module,inverter, surface_azimuth, surface_tilt,modules_per_string,\n",
    "        strings_per_inverter):\n",
    "    cop = location\n",
    "    # Open Irra data\n",
    "    df=pd.read_csv(irrad_file, header=42,sep=\";\" )\n",
    "    # Remove useless data\n",
    "    df=df.loc[:,['GHI', 'DHI', 'BNI']]\n",
    "    # fill empty area\n",
    "    df=df.fillna(0)\n",
    "    # Open meteorologic data\n",
    "    met=pd.read_csv(met_file, header=22, sep=';')\n",
    "    # Create date columns\n",
    "    date=pd.date_range(start=start, end=end, freq='H', tz=cop.tz)\n",
    "    #Remove useless data\n",
    "    met=met.loc[:, ['Temperature', 'Pressure', 'Wind speed']]\n",
    "    #Convert Kelvin to celcius \n",
    "    met['Temperature']=met['Temperature']-273.15\n",
    "    #Merge two files \n",
    "    meteo=df\n",
    "    meteo['wind_speed']=met['Wind speed'].values\n",
    "    meteo['temp_air']=met['Temperature'].values\n",
    "    meteo['pressure']=met['Pressure'].values\n",
    "    #Change columns name\n",
    "    meteo=meteo.rename(index=str, columns={'GHI':'ghi',\n",
    "                                       'BNI': 'dni',\n",
    "                                       'DHI':'dhi'\n",
    "                                      })\n",
    "    #Change index to date data\n",
    "    meteo.set_index(pd.DatetimeIndex(date), inplace=True)\n",
    "    \n",
    "    # Define and choose modules and inverter \n",
    "    cec_module=pvlib.pvsystem.retrieve_sam(mod)\n",
    "    module=cec_module[module]\n",
    "    cec_inverter=pvlib.pvsystem.retrieve_sam(inver)\n",
    "    inverter=cec_inverter[inverter]\n",
    "\n",
    "    # Define  system\n",
    "    system = pvsystem.PVSystem(surface_tilt=surface_tilt, \n",
    "                          surface_azimuth=surface_azimuth,\n",
    "                          albedo=0.2,\n",
    "                          modules_per_string=modules_per_string,\n",
    "                          strings_per_inverter=strings_per_inverter,\n",
    "                         module_parameters=module,\n",
    "                          inverter_parameters=inverter,\n",
    "                          name='test 1')\n",
    "\n",
    "    mc=pvlib.modelchain.ModelChain(system,location,\n",
    "                               aoi_model='physical',\n",
    "                               transposition_model='perez',\n",
    "                               dc_model='desoto',\n",
    "                               ac_model='snlinverter',\n",
    "                               spectral_model='no_loss',\n",
    "                               losses_model='no_loss',\n",
    "                               name=location.name)\n",
    "    \n",
    "    #run mode\n",
    "    mc.run_model(date, meteo)\n",
    "    # combine results into existing\n",
    "    df_fixed=pd.concat([meteo,mc.total_irrad],axis=1)\n",
    "    df_fixed=pd.concat([df_fixed,mc.temps],axis=1)\n",
    "    df_fixed=pd.concat([df_fixed,mc.dc],axis=1)\n",
    "    df_fixed['p_ac']=mc.ac\n",
    "    return df_fixed"
   ]
  },
  {
   "cell_type": "markdown",
   "metadata": {},
   "source": [
    "## Function to get 12 representative days\n",
    "Use to run the code faster"
   ]
  },
  {
   "cell_type": "code",
   "execution_count": 3,
   "metadata": {},
   "outputs": [],
   "source": [
    "def get12days(df, name='rpday.csv'):\n",
    "    rpday=df.groupby([df.index.month, df.index.hour]).mean()\n",
    "    rpday=rpday.loc[:,['ghi','p_ac']]\n",
    "    rpday=rpday.to_csv(name)\n",
    "    return rpday"
   ]
  },
  {
   "cell_type": "markdown",
   "metadata": {},
   "source": [
    "## Function to get the best tilt\n",
    "Use to have the best PV production throughout the year"
   ]
  },
  {
   "cell_type": "code",
   "execution_count": 4,
   "metadata": {},
   "outputs": [],
   "source": [
    "def definetilt(min_tilt=0, maxtilt=90, step=1, filename='tiltsel.csv'):\n",
    "    storemin=[]\n",
    "    for surface_tilt in range(0,91,1):\n",
    "        df=prod(location,irrad_file, met_file, start, end,mod, inver, module,inverter, surface_azimuth, surface_tilt,\n",
    "            modules_per_string,strings_per_inverter )\n",
    "        resample=df.resample('M').mean()\n",
    "        resample['Month']=resample.index.month\n",
    "        minv=resample.loc[resample['p_ac'].idxmin()]\n",
    "        annual_mean=df['p_ac'].mean()\n",
    "        storemin.append((surface_tilt, minv.Month, minv.p_ac, annual_mean))\n",
    "    tilt=pd.DataFrame(storemin, columns=['surface_tilt', 'Month', 'p_ac', 'annual_mean'])\n",
    "    best=tilt.loc[tilt['p_ac'].idxmax()]\n",
    "    surface_tilt=best.surface_tilt\n",
    "    tilt=tilt.to_csv(filename)\n",
    "    return surface_tilt"
   ]
  },
  {
   "cell_type": "markdown",
   "metadata": {},
   "source": [
    "## Set the data to use them in Oemof\n",
    "\n",
    "**Don't forget to normalize your PV production. If not, Oemof won't work**"
   ]
  },
  {
   "cell_type": "code",
   "execution_count": 13,
   "metadata": {},
   "outputs": [],
   "source": [
    "def file4oemof(df, filename='dataoemof.csv'):\n",
    "    rpday=df.groupby([df.index.month, df.index.hour]).mean()\n",
    "    #Here you used the pressure to generate a constant electriciy demand, change it for your own demand\n",
    "    rpday=rpday.loc[:,['pressure','p_ac']]\n",
    "    #Normalizing the PV production\n",
    "    rpday['p_ac']=rpday['p_ac']/49500\n",
    "    rpday['p_ac'][rpday['p_ac'] < 0] = 0\n",
    "    oemofile=rpday.rename(index=str, columns={'p_ac':'pv', 'pressure':'demand_el'})\n",
    "    date_time_index = pd.date_range(start='2018-01-01', periods=12*24,freq='H')\n",
    "    oemofile['date']=date_time_index\n",
    "    oemofile.reset_index(drop=True)\n",
    "    oemofile.set_index('date',inplace=True)\n",
    "    oemofile=oemofile.to_csv(filename)"
   ]
  },
  {
   "cell_type": "markdown",
   "metadata": {},
   "source": [
    "# Data to run the function"
   ]
  },
  {
   "cell_type": "code",
   "execution_count": 14,
   "metadata": {},
   "outputs": [],
   "source": [
    "location=pvlib.location.Location(44.888, 0.806, 'Europe/Paris',100, 'Copperton')\n",
    "irrad_file='irradiation-2018.csv'\n",
    "met_file='SoDa_MERRA2_2018.csv'\n",
    "start='2018-01-01 00:00'\n",
    "end='2018-12-31 23:00'\n",
    "# mod = 'SandiaMod' or 'CECMod'\n",
    "mod='CECMod'\n",
    "# inver = 'cecinverter' or 'SandiaInverter'\n",
    "inver='SandiaInverter'\n",
    "module='Canadian_Solar_CS6K_275P'\n",
    "inverter='Solectria_Renewables_LLC__PVI_50_kW_480__480V__480V__CEC_2018_'\n",
    "modules_per_string=10\n",
    "strings_per_inverter=1\n",
    "surface_azimuth=180 \n",
    "surface_tilt=20\n"
   ]
  },
  {
   "cell_type": "markdown",
   "metadata": {},
   "source": [
    "## Running the fonction"
   ]
  },
  {
   "cell_type": "code",
   "execution_count": 15,
   "metadata": {},
   "outputs": [],
   "source": [
    "df=prod(location,irrad_file, met_file, start, end,mod, inver, module,inverter, surface_azimuth, surface_tilt,\n",
    "            modules_per_string,strings_per_inverter) "
   ]
  }
 ],
 "metadata": {
  "kernelspec": {
   "display_name": "Python 3",
   "language": "python",
   "name": "python3"
  },
  "language_info": {
   "codemirror_mode": {
    "name": "ipython",
    "version": 3
   },
   "file_extension": ".py",
   "mimetype": "text/x-python",
   "name": "python",
   "nbconvert_exporter": "python",
   "pygments_lexer": "ipython3",
   "version": "3.6.7"
  }
 },
 "nbformat": 4,
 "nbformat_minor": 2
}
